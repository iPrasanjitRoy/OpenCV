{
 "cells": [
  {
   "cell_type": "code",
   "execution_count": 1,
   "metadata": {},
   "outputs": [],
   "source": [
    "import cv2"
   ]
  },
  {
   "cell_type": "code",
   "execution_count": 2,
   "metadata": {},
   "outputs": [],
   "source": [
    "# Read An Image\n",
    "img = cv2.imread(\"FRUIT.jpg\")\n",
    "cv2.imshow(\"Windows\", img)\n",
    "cv2.waitKey(0)\n",
    "cv2.destroyAllWindows()"
   ]
  },
  {
   "cell_type": "code",
   "execution_count": 3,
   "metadata": {},
   "outputs": [
    {
     "name": "stdout",
     "output_type": "stream",
     "text": [
      "<class 'numpy.ndarray'>\n"
     ]
    }
   ],
   "source": [
    "img = cv2.imread(\"FRUIT.jpg\")\n",
    "print(type(img))"
   ]
  },
  {
   "cell_type": "code",
   "execution_count": 4,
   "metadata": {},
   "outputs": [
    {
     "name": "stdout",
     "output_type": "stream",
     "text": [
      "(546, 728, 3)\n"
     ]
    }
   ],
   "source": [
    "print(img.shape)"
   ]
  },
  {
   "cell_type": "code",
   "execution_count": 5,
   "metadata": {},
   "outputs": [
    {
     "data": {
      "text/plain": [
       "-1"
      ]
     },
     "execution_count": 5,
     "metadata": {},
     "output_type": "execute_result"
    }
   ],
   "source": [
    "# Read An Image\n",
    "img = cv2.imread(\"FRUIT.jpg\")\n",
    "\n",
    "# Convert It To Gray Scale\n",
    "img_gary = cv2.cvtColor(img, cv2.COLOR_BGR2GRAY)\n",
    "\n",
    "cv2.imshow(\"Windows\", img_gary)\n",
    "cv2.waitKey(0)"
   ]
  },
  {
   "cell_type": "code",
   "execution_count": 6,
   "metadata": {},
   "outputs": [
    {
     "name": "stdout",
     "output_type": "stream",
     "text": [
      "(546, 728)\n"
     ]
    }
   ],
   "source": [
    "print(img_gary.shape)"
   ]
  },
  {
   "cell_type": "code",
   "execution_count": 7,
   "metadata": {},
   "outputs": [],
   "source": [
    "import numpy as np"
   ]
  },
  {
   "cell_type": "code",
   "execution_count": 8,
   "metadata": {},
   "outputs": [],
   "source": [
    "import cv2\n",
    "import numpy as np\n",
    "\n",
    "img = cv2.imread(\"FRUIT.jpg\")\n",
    "\n",
    "imgBlue = img[:, :, 0]\n",
    "imgGreen = img[:, :, 1]\n",
    "imgRed = img[:, :, 2]\n",
    "\n",
    "cv2.imshow(\"Blue Channel\", imgBlue)\n",
    "cv2.imshow(\"Green Channel\", imgGreen)\n",
    "cv2.imshow(\"Red Channel\", imgRed)\n",
    "\n",
    "cv2.waitKey(0)\n",
    "cv2.destroyAllWindows()"
   ]
  },
  {
   "cell_type": "code",
   "execution_count": 9,
   "metadata": {},
   "outputs": [],
   "source": [
    "import cv2\n",
    "import numpy as np\n",
    "\n",
    "img = cv2.imread(\"FRUIT.jpg\")\n",
    "\n",
    "imgBlue = img[:, :, 0]\n",
    "imgGreen = img[:, :, 1]\n",
    "imgRed = img[:, :, 2]\n",
    "\n",
    "new_img = np.hstack((imgBlue, imgGreen, imgRed))\n",
    "\n",
    "cv2.imshow(\"Stacked Channels\", new_img)\n",
    "cv2.waitKey(0)\n",
    "cv2.destroyAllWindows()"
   ]
  },
  {
   "cell_type": "code",
   "execution_count": 10,
   "metadata": {},
   "outputs": [],
   "source": [
    "import cv2\n",
    "import numpy as np\n",
    "\n",
    "img = cv2.imread(\"FRUIT.jpg\")\n",
    "img_resize = cv2.resize(img, (300, 300))\n",
    "\n",
    "imgBlue = img_resize[:, :, 0]\n",
    "imgGreen = img_resize[:, :, 1]\n",
    "imgRed = img_resize[:, :, 2]\n",
    "\n",
    "new_img = np.hstack((imgBlue, imgGreen, imgRed))\n",
    "\n",
    "cv2.imshow(\"Stacked Channels\", new_img)\n",
    "cv2.waitKey(0)\n",
    "cv2.destroyAllWindows()"
   ]
  },
  {
   "cell_type": "code",
   "execution_count": 11,
   "metadata": {},
   "outputs": [
    {
     "data": {
      "text/plain": [
       "-1"
      ]
     },
     "execution_count": 11,
     "metadata": {},
     "output_type": "execute_result"
    }
   ],
   "source": [
    "img = cv2.imread(\"FRUIT.jpg\")\n",
    "img_resize = cv2.resize(img, (510, 510))\n",
    "\n",
    "cv2.imshow(\"Image Resize\", img_resize)\n",
    "cv2.waitKey(0)"
   ]
  },
  {
   "cell_type": "code",
   "execution_count": 12,
   "metadata": {},
   "outputs": [
    {
     "data": {
      "text/plain": [
       "-1"
      ]
     },
     "execution_count": 12,
     "metadata": {},
     "output_type": "execute_result"
    }
   ],
   "source": [
    "img = cv2.imread(\"FRUIT.jpg\")\n",
    "\n",
    "# Vertical Flip\n",
    "img_flip = cv2.flip(img, 0)\n",
    "# Horizantal Flip\n",
    "img_flip1 = cv2.flip(img, 1)\n",
    "# Combine\n",
    "img_flip2 = cv2.flip(img, -1)\n",
    "\n",
    "\n",
    "cv2.imshow(\"Vertical Flip\", img_flip)\n",
    "cv2.imshow(\"Horizantal Flip\", img_flip1)\n",
    "cv2.imshow(\"Combine Flip\", img_flip2)\n",
    "cv2.waitKey(0)"
   ]
  },
  {
   "cell_type": "code",
   "execution_count": 13,
   "metadata": {},
   "outputs": [
    {
     "data": {
      "text/plain": [
       "-1"
      ]
     },
     "execution_count": 13,
     "metadata": {},
     "output_type": "execute_result"
    }
   ],
   "source": [
    "img = cv2.imread(\"FRUIT.jpg\")\n",
    "\n",
    "img_crop = img[0:500, 0:500]\n",
    "cv2.imshow(\"Image Crop\", img_crop)\n",
    "cv2.waitKey(0)"
   ]
  },
  {
   "cell_type": "code",
   "execution_count": 14,
   "metadata": {},
   "outputs": [
    {
     "data": {
      "text/plain": [
       "-1"
      ]
     },
     "execution_count": 14,
     "metadata": {},
     "output_type": "execute_result"
    }
   ],
   "source": [
    "img = cv2.imread(\"FRUIT.jpg\")\n",
    "\n",
    "img_crop = img[0:500, 0:500]\n",
    "\n",
    "# Save The Image\n",
    "cv2.imwrite(\"Crop_Img.png\", img_crop)\n",
    "\n",
    "cv2.imshow(\"Image Crop\", img_crop)\n",
    "cv2.waitKey(0)"
   ]
  },
  {
   "cell_type": "code",
   "execution_count": 15,
   "metadata": {},
   "outputs": [
    {
     "data": {
      "text/plain": [
       "-1"
      ]
     },
     "execution_count": 15,
     "metadata": {},
     "output_type": "execute_result"
    }
   ],
   "source": [
    "# Create An Iamge\n",
    "img_new = np.zeros((512, 512, 3))\n",
    "\n",
    "cv2.rectangle(img_new, pt1=(100, 100), pt2=(300, 300), color=(255, 0, 0), thickness=10)\n",
    "\n",
    "# Circle\n",
    "cv2.circle(img_new, center=(100, 400), radius=50, color=(0, 0, 255), thickness=-1)\n",
    "\n",
    "cv2.line(img_new, pt1=(0, 0), pt2=(512, 512), color=(0, 255, 0), thickness=4)\n",
    "\n",
    "cv2.imshow(\"Image\", img_new)\n",
    "cv2.waitKey(0)"
   ]
  },
  {
   "cell_type": "code",
   "execution_count": 16,
   "metadata": {},
   "outputs": [],
   "source": [
    "# Create An Iamge\n",
    "img_new = np.zeros((512, 512, 3))\n",
    "\n",
    "while True:\n",
    "    cv2.imshow(\"Image\", img_new)\n",
    "    if cv2.waitKey(1) & 0xFF == ord(\"x\"):\n",
    "        break\n",
    "\n",
    "cv2.destroyAllWindows()"
   ]
  },
  {
   "cell_type": "code",
   "execution_count": 17,
   "metadata": {},
   "outputs": [
    {
     "name": "stdout",
     "output_type": "stream",
     "text": [
      "0\n",
      "0\n",
      "0\n",
      "0\n",
      "0\n",
      "0\n",
      "0\n",
      "0\n",
      "0\n",
      "0\n",
      "0\n",
      "0\n",
      "0\n",
      "0\n",
      "0\n",
      "0\n",
      "0\n",
      "0\n",
      "0\n",
      "0\n",
      "0\n",
      "0\n",
      "0\n",
      "0\n",
      "0\n",
      "0\n",
      "0\n",
      "0\n",
      "0\n",
      "0\n",
      "0\n",
      "0\n",
      "0\n",
      "0\n",
      "0\n",
      "0\n",
      "0\n",
      "0\n",
      "0\n",
      "0\n"
     ]
    }
   ],
   "source": [
    "def draw(event, x, y, flags, params):\n",
    "    print(event)\n",
    "\n",
    "\n",
    "cv2.namedWindow(winname=\"Image\")\n",
    "cv2.setMouseCallback(\"Image\", draw)\n",
    "\n",
    "img_new = np.zeros((512, 512, 3))\n",
    "\n",
    "while True:\n",
    "    cv2.imshow(\"Image\", img_new)\n",
    "    if cv2.waitKey(1) & 0xFF == ord(\"x\"):\n",
    "        break\n",
    "\n",
    "cv2.destroyAllWindows()"
   ]
  },
  {
   "cell_type": "code",
   "execution_count": 18,
   "metadata": {},
   "outputs": [
    {
     "name": "stdout",
     "output_type": "stream",
     "text": [
      "Mouse Moving\n",
      "Mouse Moving\n",
      "Mouse Moving\n",
      "Mouse Moving\n",
      "Mouse Moving\n",
      "Mouse Moving\n",
      "Mouse Moving\n",
      "Mouse Moving\n",
      "Mouse Moving\n",
      "Mouse Moving\n",
      "Mouse Moving\n",
      "Mouse Moving\n",
      "Mouse Moving\n",
      "Mouse Moving\n",
      "Mouse Moving\n",
      "Mouse Moving\n",
      "Mouse Moving\n",
      "Mouse Moving\n",
      "Mouse Moving\n",
      "Mouse Moving\n",
      "Mouse Moving\n",
      "Mouse Moving\n",
      "Mouse Moving\n",
      "Mouse Moving\n",
      "Mouse Moving\n",
      "Mouse Moving\n",
      "Mouse Moving\n",
      "Mouse Moving\n",
      "Mouse Moving\n",
      "Mouse Moving\n",
      "Mouse Moving\n",
      "Mouse Moving\n",
      "Mouse Moving\n",
      "Mouse Moving\n",
      "Mouse Moving\n",
      "Mouse Moving\n",
      "Mouse Moving\n",
      "Mouse Moving\n",
      "Mouse Moving\n",
      "Mouse Moving\n",
      "Mouse Moving\n",
      "Mouse Moving\n",
      "Mouse Moving\n",
      "Mouse Moving\n",
      "Mouse Moving\n",
      "Mouse Moving\n",
      "Mouse Moving\n",
      "Mouse Moving\n",
      "Mouse Moving\n",
      "Mouse Moving\n",
      "Mouse Moving\n",
      "Mouse Moving\n",
      "Mouse Moving\n",
      "Mouse Moving\n",
      "Mouse Moving\n",
      "Mouse Moving\n",
      "Mouse Moving\n",
      "Mouse Moving\n",
      "Mouse Moving\n",
      "Mouse Moving\n",
      "Mouse Moving\n",
      "Mouse Moving\n",
      "Mouse Moving\n",
      "Mouse Moving\n",
      "Mouse Moving\n",
      "Mouse Moving\n",
      "Mouse Moving\n",
      "Mouse Moving\n",
      "Mouse Moving\n",
      "Mouse Moving\n",
      "Mouse Moving\n",
      "Mouse Moving\n",
      "Mouse Moving\n",
      "Mouse Moving\n",
      "Mouse Moving\n",
      "Mouse Moving\n",
      "Mouse Moving\n",
      "Mouse Moving\n",
      "Mouse Moving\n",
      "Mouse Moving\n",
      "Mouse Moving\n",
      "Mouse Moving\n",
      "Mouse Moving\n",
      "Mouse Moving\n",
      "Mouse Moving\n",
      "Mouse Moving\n",
      "Mouse Moving\n",
      "Mouse Moving\n",
      "Mouse Moving\n",
      "Mouse Moving\n",
      "Mouse Moving\n",
      "Mouse Moving\n",
      "Mouse Moving\n",
      "Mouse Moving\n",
      "Mouse Moving\n",
      "Mouse Moving\n",
      "Mouse Moving\n",
      "Mouse Moving\n",
      "Mouse Moving\n",
      "Mouse Moving\n",
      "Mouse Moving\n",
      "Mouse Moving\n",
      "Mouse Moving\n",
      "Mouse Moving\n",
      "Mouse Moving\n",
      "Mouse Moving\n",
      "Mouse Moving\n",
      "Mouse Moving\n",
      "Mouse Moving\n",
      "Mouse Moving\n",
      "Mouse Moving\n",
      "Mouse Moving\n",
      "Mouse Moving\n",
      "Mouse Moving\n",
      "Mouse Moving\n",
      "Mouse Moving\n",
      "Mouse Moving\n",
      "Mouse Moving\n",
      "Mouse Moving\n",
      "Mouse Moving\n",
      "Mouse Moving\n",
      "Mouse Moving\n",
      "Mouse Moving\n",
      "Mouse Moving\n",
      "Mouse Moving\n",
      "Mouse Moving\n",
      "Mouse Moving\n",
      "Mouse Moving\n",
      "Mouse Moving\n",
      "Mouse Moving\n",
      "Mouse Moving\n",
      "Mouse Moving\n",
      "Mouse Moving\n",
      "Mouse Moving\n",
      "Mouse Moving\n",
      "Mouse Moving\n",
      "Mouse Moving\n",
      "Mouse Moving\n",
      "Mouse Moving\n",
      "Mouse Moving\n",
      "Mouse Moving\n",
      "Mouse Moving\n",
      "Mouse Moving\n",
      "Mouse Moving\n",
      "Mouse Moving\n",
      "Mouse Moving\n",
      "Mouse Moving\n",
      "Mouse Moving\n",
      "Mouse Moving\n",
      "Mouse Moving\n",
      "Mouse Moving\n",
      "Mouse Moving\n",
      "Mouse Moving\n",
      "Mouse Moving\n",
      "Mouse Moving\n",
      "Mouse Moving\n",
      "Mouse Moving\n",
      "Mouse Moving\n",
      "Mouse Down Clicked\n",
      "Mouse Up Clicked\n",
      "Mouse Moving\n",
      "Mouse Moving\n",
      "Mouse Moving\n",
      "Mouse Moving\n",
      "Mouse Moving\n",
      "Mouse Moving\n",
      "Mouse Moving\n",
      "Mouse Moving\n",
      "Mouse Moving\n",
      "Mouse Moving\n",
      "Mouse Moving\n",
      "Mouse Moving\n",
      "Mouse Moving\n",
      "Mouse Moving\n",
      "Mouse Moving\n",
      "Mouse Moving\n",
      "Mouse Moving\n",
      "Mouse Moving\n",
      "Mouse Moving\n",
      "Mouse Moving\n",
      "Mouse Moving\n"
     ]
    }
   ],
   "source": [
    "def draw(event, x, y, flags, params):\n",
    "    if event == 0:\n",
    "        print(\"Mouse Moving\")\n",
    "    elif event == 1:\n",
    "        print(\"Mouse Down Clicked\")\n",
    "    elif event == 4:\n",
    "        print(\"Mouse Up Clicked\")\n",
    "    elif event == 7:\n",
    "        print(\"Mouse Doble Down Clicked\")\n",
    "    else:\n",
    "        print(\"NOTHING HAPPENS\")\n",
    "\n",
    "\n",
    "cv2.namedWindow(winname=\"Image\")\n",
    "cv2.setMouseCallback(\"Image\", draw)\n",
    "\n",
    "\n",
    "img_new = np.zeros((512, 512, 3))\n",
    "\n",
    "while True:\n",
    "    cv2.imshow(\"Image\", img_new)\n",
    "    if cv2.waitKey(1) & 0xFF == ord(\"x\"):\n",
    "        break\n",
    "\n",
    "cv2.destroyAllWindows()"
   ]
  },
  {
   "cell_type": "code",
   "execution_count": 19,
   "metadata": {},
   "outputs": [],
   "source": [
    "def draw(event, x, y, flags, params):\n",
    "    if event == 1:\n",
    "        cv2.circle(img_new, center=(x, y), radius=50, color=(0, 0, 255), thickness=-1)\n",
    "\n",
    "\n",
    "cv2.namedWindow(winname=\"Image\")\n",
    "cv2.setMouseCallback(\"Image\", draw)\n",
    "\n",
    "\n",
    "img_new = np.zeros((512, 512, 3))\n",
    "\n",
    "while True:\n",
    "    cv2.imshow(\"Image\", img_new)\n",
    "    if cv2.waitKey(1) & 0xFF == ord(\"x\"):\n",
    "        break\n",
    "\n",
    "cv2.destroyAllWindows()"
   ]
  },
  {
   "cell_type": "code",
   "execution_count": 20,
   "metadata": {},
   "outputs": [],
   "source": [
    "flag = False\n",
    "ix = -1\n",
    "iy = -1\n",
    "\n",
    "\n",
    "def draw(event, x, y, flags, params):\n",
    "    global flag, ix, iy\n",
    "    if event == 1:\n",
    "        flag = True\n",
    "        ix = x\n",
    "        iy = y\n",
    "    elif event == 0:\n",
    "        if flag == True:\n",
    "            cv2.rectangle(\n",
    "                img_new, pt1=(ix, iy), pt2=(x, y), color=(0, 255, 255), thickness=4\n",
    "            )\n",
    "    elif event == 4:\n",
    "        flag = False\n",
    "        cv2.rectangle(\n",
    "            img_new, pt1=(ix, iy), pt2=(x, y), color=(0, 255, 255), thickness=4\n",
    "        )\n",
    "\n",
    "\n",
    "cv2.namedWindow(winname=\"Image\")\n",
    "cv2.setMouseCallback(\"Image\", draw)\n",
    "\n",
    "\n",
    "img_new = np.zeros((512, 512, 3))\n",
    "\n",
    "while True:\n",
    "    cv2.imshow(\"Image\", img_new)\n",
    "    if cv2.waitKey(1) & 0xFF == ord(\"x\"):\n",
    "        break\n",
    "\n",
    "cv2.destroyAllWindows()"
   ]
  },
  {
   "cell_type": "code",
   "execution_count": 21,
   "metadata": {},
   "outputs": [],
   "source": [
    "flag = False\n",
    "ix = -1\n",
    "iy = -1\n",
    "\n",
    "\n",
    "def draw(event, x, y, flags, params):\n",
    "    global flag, ix, iy\n",
    "    if event == 1:\n",
    "        flag = True\n",
    "        ix = x\n",
    "        iy = y\n",
    "    elif event == 0:\n",
    "        if flag == True:\n",
    "            cv2.rectangle(\n",
    "                img_new, pt1=(ix, iy), pt2=(x, y), color=(0, 255, 255), thickness=4\n",
    "            )\n",
    "    elif event == 4:\n",
    "        fx = x\n",
    "        fy = y\n",
    "\n",
    "        flag = False\n",
    "        cv2.rectangle(\n",
    "            img_new, pt1=(ix, iy), pt2=(x, y), color=(0, 255, 255), thickness=4\n",
    "        )\n",
    "        cropped = img_new[iy:fy, ix:fx]\n",
    "        cv2.imshow(\"CImage\", cropped)\n",
    "        cv2.waitKey(0)\n",
    "\n",
    "\n",
    "cv2.namedWindow(winname=\"Image\")\n",
    "cv2.setMouseCallback(\"Image\", draw)\n",
    "\n",
    "\n",
    "img_new = np.zeros((512, 512, 3))\n",
    "\n",
    "while True:\n",
    "    cv2.imshow(\"Image\", img_new)\n",
    "    if cv2.waitKey(1) & 0xFF == ord(\"x\"):\n",
    "        break\n",
    "\n",
    "cv2.destroyAllWindows()"
   ]
  },
  {
   "cell_type": "code",
   "execution_count": 22,
   "metadata": {},
   "outputs": [],
   "source": [
    "import cv2\n",
    "\n",
    "\n",
    "cap = cv2.VideoCapture(0)\n",
    "\n",
    "\n",
    "# Check If The Camera Opened Successfully\n",
    "\n",
    "if not cap.isOpened():\n",
    "    print(\"Error: Could Not Open Camera.\")\n",
    "\n",
    "    exit()\n",
    "\n",
    "\n",
    "# Define The Codec And Create A Video Writer Object\n",
    "\n",
    "fourcc = cv2.VideoWriter_fourcc(*\"XVID\")\n",
    "\n",
    "out = cv2.VideoWriter(\"output.avi\", fourcc, 20.0, (640, 480))\n",
    "\n",
    "\n",
    "while True:\n",
    "    ret, frame = cap.read()\n",
    "\n",
    "    vid_gray = cv2.cvtColor(frame, cv2.COLOR_BGR2GRAY)\n",
    "\n",
    "    # If The Frame Was Read Successfully, Process It\n",
    "\n",
    "    if ret:\n",
    "        cv2.imshow(\"Webcam\", vid_gray)\n",
    "\n",
    "        # Write The Frame To The Output Video File\n",
    "\n",
    "        out.write(vid_gray)\n",
    "\n",
    "        if cv2.waitKey(1) & 0xFF == ord(\"q\"):\n",
    "            break\n",
    "\n",
    "    else:\n",
    "        print(\"Error: Failed To Capture Frame\")\n",
    "\n",
    "        break\n",
    "\n",
    "\n",
    "# Release Everything When The Job Is Done\n",
    "cap.release()\n",
    "out.release()\n",
    "\n",
    "cv2.destroyAllWindows()"
   ]
  },
  {
   "cell_type": "code",
   "execution_count": 23,
   "metadata": {},
   "outputs": [],
   "source": [
    "import cv2\n",
    "\n",
    "cap = cv2.VideoCapture(0)\n",
    "\n",
    "# Check If The Camera Opened Successfully\n",
    "if not cap.isOpened():\n",
    "    print(\"Error: Could Not Open Camera.\")\n",
    "    exit()\n",
    "\n",
    "\n",
    "while True:\n",
    "    ret, frame = cap.read()\n",
    "    vid_gray = cv2.cvtColor(frame, cv2.COLOR_BGR2GRAY)\n",
    "\n",
    "    # If The Frame Was Read Successfully, Process It\n",
    "    if ret:\n",
    "        cv2.imshow(\"Webcam\", vid_gray)\n",
    "\n",
    "        if cv2.waitKey(1) & 0xFF == ord(\"q\"):\n",
    "            break\n",
    "    else:\n",
    "        print(\"Error: Failed To Capture Frame\")\n",
    "        break\n",
    "\n",
    "# Release Everything When The Job Is Done\n",
    "cap.release()\n",
    "out.release()\n",
    "cv2.destroyAllWindows()"
   ]
  }
 ],
 "metadata": {
  "kernelspec": {
   "display_name": "Python 3",
   "language": "python",
   "name": "python3"
  },
  "language_info": {
   "codemirror_mode": {
    "name": "ipython",
    "version": 3
   },
   "file_extension": ".py",
   "mimetype": "text/x-python",
   "name": "python",
   "nbconvert_exporter": "python",
   "pygments_lexer": "ipython3",
   "version": "3.12.0"
  }
 },
 "nbformat": 4,
 "nbformat_minor": 2
}
