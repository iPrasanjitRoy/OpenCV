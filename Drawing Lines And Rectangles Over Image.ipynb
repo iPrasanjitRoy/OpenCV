{
 "cells": [
  {
   "cell_type": "code",
   "execution_count": 1,
   "metadata": {},
   "outputs": [],
   "source": [
    "import cv2"
   ]
  },
  {
   "cell_type": "code",
   "execution_count": 2,
   "metadata": {},
   "outputs": [],
   "source": [
    "# Reading An Image\n",
    "# Resizing The Image\n",
    "# Displaying The Image \n",
    "# Waiting For A Key Press  - This Line Waits Indefinitely For A Key Press. The Argument 0 Means That It Waits Until Any Key Is Pressed. This Is Used To Keep The Window Open Until You Decide To Close It. \n",
    "# Closing The Window   - After A Key Is Pressed, This Line Closes All OpenCV Windows.\n",
    "old_img = cv2.imread(\"img.jpg\")\n",
    "old_img = cv2.resize(old_img,(500,800))\n",
    "cv2.imshow(\"Fame Show\",old_img)\n",
    "cv2.waitKey(0)\n",
    "cv2.destroyAllWindows()\n"
   ]
  },
  {
   "cell_type": "code",
   "execution_count": 3,
   "metadata": {},
   "outputs": [],
   "source": [
    "old_img = cv2.imread(\"img.jpg\")\n",
    "old_img = cv2.resize(old_img,(500,700))\n",
    "\n",
    "new_img = cv2.line(img=old_img, pt1=(120,50),  pt2=(320,50), color= (0,255,0), thickness=4, lineType=4)\n",
    "\n",
    "cv2.imshow(\"Fame Show\",new_img)\n",
    "cv2.waitKey(0)\n",
    "cv2.destroyAllWindows()"
   ]
  },
  {
   "cell_type": "code",
   "execution_count": 4,
   "metadata": {},
   "outputs": [],
   "source": [
    "old_img = cv2.imread(\"img.jpg\")\n",
    "old_img = cv2.resize(old_img,(500,700))\n",
    "\n",
    "new_img = cv2.rectangle(img=old_img, pt1=(150,20),  pt2=(350,300), color= (0,255,0), thickness=4, lineType=16)\n",
    "cv2.imshow(\"Fame Show\",new_img)\n",
    "cv2.waitKey(0)\n",
    "cv2.destroyAllWindows()"
   ]
  },
  {
   "cell_type": "code",
   "execution_count": 5,
   "metadata": {},
   "outputs": [],
   "source": [
    "# Function To Draw Text On An Image \n",
    "# TEXT COLOR IN BGR FORMAT\n",
    "old_img = cv2.imread(\"img.jpg\")\n",
    "old_img = cv2.resize(old_img,(500,700))\n",
    "txt_img = cv2.putText(img = old_img, text=\"PICTURES 1\", org=(160,350), fontScale=1, fontFace=2, color=(0,255,0), thickness=4, lineType=16, bottomLeftOrigin=False)\n",
    "\n",
    "new_img = cv2.rectangle(img=txt_img, pt1=(150,20),  pt2=(350,300), color= (0,255,0), thickness=4, lineType=16)\n",
    "cv2.imshow(\"Fame Show\",new_img)\n",
    "cv2.waitKey(0)\n",
    "cv2.destroyAllWindows()"
   ]
  }
 ],
 "metadata": {
  "kernelspec": {
   "display_name": "Python 3",
   "language": "python",
   "name": "python3"
  },
  "language_info": {
   "codemirror_mode": {
    "name": "ipython",
    "version": 3
   },
   "file_extension": ".py",
   "mimetype": "text/x-python",
   "name": "python",
   "nbconvert_exporter": "python",
   "pygments_lexer": "ipython3",
   "version": "3.12.0"
  }
 },
 "nbformat": 4,
 "nbformat_minor": 2
}
